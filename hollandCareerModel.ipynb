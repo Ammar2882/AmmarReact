{
  "nbformat": 4,
  "nbformat_minor": 0,
  "metadata": {
    "colab": {
      "name": "hollandCareerModel.ipynb",
      "provenance": [],
      "authorship_tag": "ABX9TyMr6aupMZtH8YqVhxNz1gE1",
      "include_colab_link": true
    },
    "kernelspec": {
      "name": "python3",
      "display_name": "Python 3"
    },
    "language_info": {
      "name": "python"
    }
  },
  "cells": [
    {
      "cell_type": "markdown",
      "metadata": {
        "id": "view-in-github",
        "colab_type": "text"
      },
      "source": [
        "<a href=\"https://colab.research.google.com/github/Ammar2882/AmmarReact/blob/master/hollandCareerModel.ipynb\" target=\"_parent\"><img src=\"https://colab.research.google.com/assets/colab-badge.svg\" alt=\"Open In Colab\"/></a>"
      ]
    },
    {
      "cell_type": "code",
      "metadata": {
        "colab": {
          "base_uri": "https://localhost:8080/"
        },
        "id": "Jt8Rm-Sp7cMt",
        "outputId": "3682995d-8ef4-4036-ab21-0228eb4e7524"
      },
      "source": [
        "from google.colab import drive\n",
        "drive.mount('/content/drive')"
      ],
      "execution_count": null,
      "outputs": [
        {
          "output_type": "stream",
          "text": [
            "Mounted at /content/drive\n"
          ],
          "name": "stdout"
        }
      ]
    },
    {
      "cell_type": "code",
      "metadata": {
        "id": "rEVRdpO58pYS"
      },
      "source": [
        "col_list = [\"R1\",\"R2\",\"R3\",\"R4\",\"R5\",\"R6\",\"R7\",\"R8\",\n",
        "\"I1\",\n",
        "\"I2\",\n",
        "\"I3\",\n",
        "\"I4\",\n",
        "\"I5\",\n",
        "\"I6\",\n",
        "\"I7\",\n",
        "\"I8\",\n",
        "\"A1\",\n",
        "\"A2\",\n",
        "\"A3\",\n",
        "\"A4\",\n",
        "\"A5\",\n",
        "\"A6\",\n",
        "\"A7\",\n",
        "\"A8\",\n",
        "\"S1\",\n",
        "\"S2\",\n",
        "\"S3\",\n",
        "\"S4\",\n",
        "\"S5\",\n",
        "\"S6\",\n",
        "\"S7\",\n",
        "\"S8\",\n",
        "\"E1\",\n",
        "\"E2\",\n",
        "\"E3\",\n",
        "\"E4\",\n",
        "\"E5\",\n",
        "\"E6\",\n",
        "\"E7\",\n",
        "\"E8\",\n",
        "\"C1\",\n",
        "\"C2\",\n",
        "\"C3\",\n",
        "\"C4\",\n",
        "\"C5\",\n",
        "\"C6\",\n",
        "\"C7\",\n",
        "\"C8\"]"
      ],
      "execution_count": null,
      "outputs": []
    },
    {
      "cell_type": "code",
      "metadata": {
        "id": "jh_T8vhJ8Gm2"
      },
      "source": [
        "import pandas as pd\n",
        "df = pd.read_csv('drive/MyDrive/hollandData.csv', delimiter=\"\\t\", usecols=col_list)"
      ],
      "execution_count": null,
      "outputs": []
    },
    {
      "cell_type": "code",
      "metadata": {
        "colab": {
          "base_uri": "https://localhost:8080/",
          "height": 399
        },
        "id": "xVoh4Rnf_TGX",
        "outputId": "5424a92b-e156-415b-97af-0f9106be3ad1"
      },
      "source": [
        "df"
      ],
      "execution_count": null,
      "outputs": [
        {
          "output_type": "execute_result",
          "data": {
            "text/html": [
              "<div>\n",
              "<style scoped>\n",
              "    .dataframe tbody tr th:only-of-type {\n",
              "        vertical-align: middle;\n",
              "    }\n",
              "\n",
              "    .dataframe tbody tr th {\n",
              "        vertical-align: top;\n",
              "    }\n",
              "\n",
              "    .dataframe thead th {\n",
              "        text-align: right;\n",
              "    }\n",
              "</style>\n",
              "<table border=\"1\" class=\"dataframe\">\n",
              "  <thead>\n",
              "    <tr style=\"text-align: right;\">\n",
              "      <th></th>\n",
              "      <th>R1</th>\n",
              "      <th>R2</th>\n",
              "      <th>R3</th>\n",
              "      <th>R4</th>\n",
              "      <th>R5</th>\n",
              "      <th>R6</th>\n",
              "      <th>R7</th>\n",
              "      <th>R8</th>\n",
              "      <th>I1</th>\n",
              "      <th>I2</th>\n",
              "      <th>I3</th>\n",
              "      <th>I4</th>\n",
              "      <th>I5</th>\n",
              "      <th>I6</th>\n",
              "      <th>I7</th>\n",
              "      <th>I8</th>\n",
              "      <th>A1</th>\n",
              "      <th>A2</th>\n",
              "      <th>A3</th>\n",
              "      <th>A4</th>\n",
              "      <th>A5</th>\n",
              "      <th>A6</th>\n",
              "      <th>A7</th>\n",
              "      <th>A8</th>\n",
              "      <th>S1</th>\n",
              "      <th>S2</th>\n",
              "      <th>S3</th>\n",
              "      <th>S4</th>\n",
              "      <th>S5</th>\n",
              "      <th>S6</th>\n",
              "      <th>S7</th>\n",
              "      <th>S8</th>\n",
              "      <th>E1</th>\n",
              "      <th>E2</th>\n",
              "      <th>E3</th>\n",
              "      <th>E4</th>\n",
              "      <th>E5</th>\n",
              "      <th>E6</th>\n",
              "      <th>E7</th>\n",
              "      <th>E8</th>\n",
              "      <th>C1</th>\n",
              "      <th>C2</th>\n",
              "      <th>C3</th>\n",
              "      <th>C4</th>\n",
              "      <th>C5</th>\n",
              "      <th>C6</th>\n",
              "      <th>C7</th>\n",
              "      <th>C8</th>\n",
              "    </tr>\n",
              "  </thead>\n",
              "  <tbody>\n",
              "    <tr>\n",
              "      <th>0</th>\n",
              "      <td>3</td>\n",
              "      <td>4</td>\n",
              "      <td>3</td>\n",
              "      <td>1</td>\n",
              "      <td>1</td>\n",
              "      <td>4</td>\n",
              "      <td>1</td>\n",
              "      <td>3</td>\n",
              "      <td>5</td>\n",
              "      <td>5</td>\n",
              "      <td>4</td>\n",
              "      <td>3</td>\n",
              "      <td>4</td>\n",
              "      <td>5</td>\n",
              "      <td>4</td>\n",
              "      <td>3</td>\n",
              "      <td>5</td>\n",
              "      <td>4</td>\n",
              "      <td>1</td>\n",
              "      <td>2</td>\n",
              "      <td>4</td>\n",
              "      <td>5</td>\n",
              "      <td>2</td>\n",
              "      <td>4</td>\n",
              "      <td>3</td>\n",
              "      <td>5</td>\n",
              "      <td>5</td>\n",
              "      <td>4</td>\n",
              "      <td>5</td>\n",
              "      <td>5</td>\n",
              "      <td>5</td>\n",
              "      <td>5</td>\n",
              "      <td>2</td>\n",
              "      <td>1</td>\n",
              "      <td>4</td>\n",
              "      <td>1</td>\n",
              "      <td>2</td>\n",
              "      <td>2</td>\n",
              "      <td>1</td>\n",
              "      <td>3</td>\n",
              "      <td>1</td>\n",
              "      <td>3</td>\n",
              "      <td>1</td>\n",
              "      <td>1</td>\n",
              "      <td>1</td>\n",
              "      <td>3</td>\n",
              "      <td>1</td>\n",
              "      <td>1</td>\n",
              "    </tr>\n",
              "    <tr>\n",
              "      <th>1</th>\n",
              "      <td>1</td>\n",
              "      <td>1</td>\n",
              "      <td>2</td>\n",
              "      <td>4</td>\n",
              "      <td>1</td>\n",
              "      <td>2</td>\n",
              "      <td>2</td>\n",
              "      <td>1</td>\n",
              "      <td>5</td>\n",
              "      <td>5</td>\n",
              "      <td>5</td>\n",
              "      <td>4</td>\n",
              "      <td>4</td>\n",
              "      <td>4</td>\n",
              "      <td>4</td>\n",
              "      <td>4</td>\n",
              "      <td>2</td>\n",
              "      <td>1</td>\n",
              "      <td>4</td>\n",
              "      <td>2</td>\n",
              "      <td>1</td>\n",
              "      <td>3</td>\n",
              "      <td>4</td>\n",
              "      <td>2</td>\n",
              "      <td>2</td>\n",
              "      <td>3</td>\n",
              "      <td>4</td>\n",
              "      <td>3</td>\n",
              "      <td>4</td>\n",
              "      <td>2</td>\n",
              "      <td>3</td>\n",
              "      <td>1</td>\n",
              "      <td>1</td>\n",
              "      <td>1</td>\n",
              "      <td>1</td>\n",
              "      <td>1</td>\n",
              "      <td>1</td>\n",
              "      <td>1</td>\n",
              "      <td>1</td>\n",
              "      <td>3</td>\n",
              "      <td>1</td>\n",
              "      <td>1</td>\n",
              "      <td>2</td>\n",
              "      <td>1</td>\n",
              "      <td>1</td>\n",
              "      <td>2</td>\n",
              "      <td>1</td>\n",
              "      <td>1</td>\n",
              "    </tr>\n",
              "    <tr>\n",
              "      <th>2</th>\n",
              "      <td>2</td>\n",
              "      <td>1</td>\n",
              "      <td>1</td>\n",
              "      <td>1</td>\n",
              "      <td>1</td>\n",
              "      <td>1</td>\n",
              "      <td>1</td>\n",
              "      <td>1</td>\n",
              "      <td>4</td>\n",
              "      <td>1</td>\n",
              "      <td>1</td>\n",
              "      <td>1</td>\n",
              "      <td>1</td>\n",
              "      <td>1</td>\n",
              "      <td>1</td>\n",
              "      <td>1</td>\n",
              "      <td>1</td>\n",
              "      <td>1</td>\n",
              "      <td>1</td>\n",
              "      <td>2</td>\n",
              "      <td>1</td>\n",
              "      <td>1</td>\n",
              "      <td>3</td>\n",
              "      <td>1</td>\n",
              "      <td>3</td>\n",
              "      <td>1</td>\n",
              "      <td>5</td>\n",
              "      <td>3</td>\n",
              "      <td>5</td>\n",
              "      <td>5</td>\n",
              "      <td>4</td>\n",
              "      <td>4</td>\n",
              "      <td>1</td>\n",
              "      <td>3</td>\n",
              "      <td>3</td>\n",
              "      <td>5</td>\n",
              "      <td>1</td>\n",
              "      <td>4</td>\n",
              "      <td>4</td>\n",
              "      <td>3</td>\n",
              "      <td>1</td>\n",
              "      <td>3</td>\n",
              "      <td>2</td>\n",
              "      <td>2</td>\n",
              "      <td>1</td>\n",
              "      <td>2</td>\n",
              "      <td>4</td>\n",
              "      <td>1</td>\n",
              "    </tr>\n",
              "    <tr>\n",
              "      <th>3</th>\n",
              "      <td>3</td>\n",
              "      <td>1</td>\n",
              "      <td>1</td>\n",
              "      <td>2</td>\n",
              "      <td>2</td>\n",
              "      <td>2</td>\n",
              "      <td>2</td>\n",
              "      <td>2</td>\n",
              "      <td>4</td>\n",
              "      <td>1</td>\n",
              "      <td>2</td>\n",
              "      <td>4</td>\n",
              "      <td>3</td>\n",
              "      <td>2</td>\n",
              "      <td>3</td>\n",
              "      <td>2</td>\n",
              "      <td>5</td>\n",
              "      <td>2</td>\n",
              "      <td>4</td>\n",
              "      <td>5</td>\n",
              "      <td>1</td>\n",
              "      <td>4</td>\n",
              "      <td>4</td>\n",
              "      <td>2</td>\n",
              "      <td>4</td>\n",
              "      <td>2</td>\n",
              "      <td>3</td>\n",
              "      <td>3</td>\n",
              "      <td>2</td>\n",
              "      <td>1</td>\n",
              "      <td>3</td>\n",
              "      <td>2</td>\n",
              "      <td>5</td>\n",
              "      <td>4</td>\n",
              "      <td>3</td>\n",
              "      <td>2</td>\n",
              "      <td>3</td>\n",
              "      <td>3</td>\n",
              "      <td>2</td>\n",
              "      <td>3</td>\n",
              "      <td>3</td>\n",
              "      <td>2</td>\n",
              "      <td>3</td>\n",
              "      <td>3</td>\n",
              "      <td>2</td>\n",
              "      <td>2</td>\n",
              "      <td>2</td>\n",
              "      <td>2</td>\n",
              "    </tr>\n",
              "    <tr>\n",
              "      <th>4</th>\n",
              "      <td>4</td>\n",
              "      <td>1</td>\n",
              "      <td>1</td>\n",
              "      <td>2</td>\n",
              "      <td>1</td>\n",
              "      <td>1</td>\n",
              "      <td>1</td>\n",
              "      <td>2</td>\n",
              "      <td>5</td>\n",
              "      <td>5</td>\n",
              "      <td>5</td>\n",
              "      <td>3</td>\n",
              "      <td>5</td>\n",
              "      <td>5</td>\n",
              "      <td>5</td>\n",
              "      <td>3</td>\n",
              "      <td>3</td>\n",
              "      <td>5</td>\n",
              "      <td>5</td>\n",
              "      <td>5</td>\n",
              "      <td>5</td>\n",
              "      <td>5</td>\n",
              "      <td>1</td>\n",
              "      <td>5</td>\n",
              "      <td>5</td>\n",
              "      <td>4</td>\n",
              "      <td>4</td>\n",
              "      <td>4</td>\n",
              "      <td>5</td>\n",
              "      <td>5</td>\n",
              "      <td>5</td>\n",
              "      <td>5</td>\n",
              "      <td>2</td>\n",
              "      <td>3</td>\n",
              "      <td>2</td>\n",
              "      <td>3</td>\n",
              "      <td>2</td>\n",
              "      <td>4</td>\n",
              "      <td>2</td>\n",
              "      <td>2</td>\n",
              "      <td>4</td>\n",
              "      <td>2</td>\n",
              "      <td>2</td>\n",
              "      <td>4</td>\n",
              "      <td>5</td>\n",
              "      <td>5</td>\n",
              "      <td>2</td>\n",
              "      <td>2</td>\n",
              "    </tr>\n",
              "    <tr>\n",
              "      <th>...</th>\n",
              "      <td>...</td>\n",
              "      <td>...</td>\n",
              "      <td>...</td>\n",
              "      <td>...</td>\n",
              "      <td>...</td>\n",
              "      <td>...</td>\n",
              "      <td>...</td>\n",
              "      <td>...</td>\n",
              "      <td>...</td>\n",
              "      <td>...</td>\n",
              "      <td>...</td>\n",
              "      <td>...</td>\n",
              "      <td>...</td>\n",
              "      <td>...</td>\n",
              "      <td>...</td>\n",
              "      <td>...</td>\n",
              "      <td>...</td>\n",
              "      <td>...</td>\n",
              "      <td>...</td>\n",
              "      <td>...</td>\n",
              "      <td>...</td>\n",
              "      <td>...</td>\n",
              "      <td>...</td>\n",
              "      <td>...</td>\n",
              "      <td>...</td>\n",
              "      <td>...</td>\n",
              "      <td>...</td>\n",
              "      <td>...</td>\n",
              "      <td>...</td>\n",
              "      <td>...</td>\n",
              "      <td>...</td>\n",
              "      <td>...</td>\n",
              "      <td>...</td>\n",
              "      <td>...</td>\n",
              "      <td>...</td>\n",
              "      <td>...</td>\n",
              "      <td>...</td>\n",
              "      <td>...</td>\n",
              "      <td>...</td>\n",
              "      <td>...</td>\n",
              "      <td>...</td>\n",
              "      <td>...</td>\n",
              "      <td>...</td>\n",
              "      <td>...</td>\n",
              "      <td>...</td>\n",
              "      <td>...</td>\n",
              "      <td>...</td>\n",
              "      <td>...</td>\n",
              "    </tr>\n",
              "    <tr>\n",
              "      <th>145823</th>\n",
              "      <td>2</td>\n",
              "      <td>1</td>\n",
              "      <td>1</td>\n",
              "      <td>1</td>\n",
              "      <td>1</td>\n",
              "      <td>1</td>\n",
              "      <td>1</td>\n",
              "      <td>2</td>\n",
              "      <td>2</td>\n",
              "      <td>3</td>\n",
              "      <td>2</td>\n",
              "      <td>2</td>\n",
              "      <td>3</td>\n",
              "      <td>3</td>\n",
              "      <td>2</td>\n",
              "      <td>2</td>\n",
              "      <td>2</td>\n",
              "      <td>4</td>\n",
              "      <td>4</td>\n",
              "      <td>4</td>\n",
              "      <td>3</td>\n",
              "      <td>4</td>\n",
              "      <td>3</td>\n",
              "      <td>4</td>\n",
              "      <td>4</td>\n",
              "      <td>4</td>\n",
              "      <td>3</td>\n",
              "      <td>4</td>\n",
              "      <td>4</td>\n",
              "      <td>4</td>\n",
              "      <td>4</td>\n",
              "      <td>1</td>\n",
              "      <td>3</td>\n",
              "      <td>1</td>\n",
              "      <td>4</td>\n",
              "      <td>4</td>\n",
              "      <td>2</td>\n",
              "      <td>2</td>\n",
              "      <td>1</td>\n",
              "      <td>3</td>\n",
              "      <td>1</td>\n",
              "      <td>2</td>\n",
              "      <td>1</td>\n",
              "      <td>2</td>\n",
              "      <td>3</td>\n",
              "      <td>2</td>\n",
              "      <td>1</td>\n",
              "      <td>1</td>\n",
              "    </tr>\n",
              "    <tr>\n",
              "      <th>145824</th>\n",
              "      <td>1</td>\n",
              "      <td>1</td>\n",
              "      <td>1</td>\n",
              "      <td>1</td>\n",
              "      <td>1</td>\n",
              "      <td>1</td>\n",
              "      <td>1</td>\n",
              "      <td>4</td>\n",
              "      <td>4</td>\n",
              "      <td>1</td>\n",
              "      <td>1</td>\n",
              "      <td>1</td>\n",
              "      <td>4</td>\n",
              "      <td>1</td>\n",
              "      <td>5</td>\n",
              "      <td>1</td>\n",
              "      <td>5</td>\n",
              "      <td>5</td>\n",
              "      <td>5</td>\n",
              "      <td>5</td>\n",
              "      <td>4</td>\n",
              "      <td>5</td>\n",
              "      <td>5</td>\n",
              "      <td>5</td>\n",
              "      <td>5</td>\n",
              "      <td>5</td>\n",
              "      <td>5</td>\n",
              "      <td>3</td>\n",
              "      <td>5</td>\n",
              "      <td>5</td>\n",
              "      <td>5</td>\n",
              "      <td>2</td>\n",
              "      <td>3</td>\n",
              "      <td>3</td>\n",
              "      <td>3</td>\n",
              "      <td>5</td>\n",
              "      <td>1</td>\n",
              "      <td>3</td>\n",
              "      <td>5</td>\n",
              "      <td>1</td>\n",
              "      <td>2</td>\n",
              "      <td>2</td>\n",
              "      <td>1</td>\n",
              "      <td>2</td>\n",
              "      <td>1</td>\n",
              "      <td>4</td>\n",
              "      <td>3</td>\n",
              "      <td>1</td>\n",
              "    </tr>\n",
              "    <tr>\n",
              "      <th>145825</th>\n",
              "      <td>1</td>\n",
              "      <td>1</td>\n",
              "      <td>1</td>\n",
              "      <td>1</td>\n",
              "      <td>1</td>\n",
              "      <td>1</td>\n",
              "      <td>1</td>\n",
              "      <td>1</td>\n",
              "      <td>1</td>\n",
              "      <td>1</td>\n",
              "      <td>1</td>\n",
              "      <td>1</td>\n",
              "      <td>1</td>\n",
              "      <td>1</td>\n",
              "      <td>1</td>\n",
              "      <td>1</td>\n",
              "      <td>1</td>\n",
              "      <td>1</td>\n",
              "      <td>1</td>\n",
              "      <td>1</td>\n",
              "      <td>1</td>\n",
              "      <td>1</td>\n",
              "      <td>1</td>\n",
              "      <td>1</td>\n",
              "      <td>4</td>\n",
              "      <td>5</td>\n",
              "      <td>5</td>\n",
              "      <td>3</td>\n",
              "      <td>5</td>\n",
              "      <td>5</td>\n",
              "      <td>5</td>\n",
              "      <td>4</td>\n",
              "      <td>1</td>\n",
              "      <td>1</td>\n",
              "      <td>1</td>\n",
              "      <td>2</td>\n",
              "      <td>3</td>\n",
              "      <td>2</td>\n",
              "      <td>1</td>\n",
              "      <td>1</td>\n",
              "      <td>2</td>\n",
              "      <td>2</td>\n",
              "      <td>3</td>\n",
              "      <td>3</td>\n",
              "      <td>3</td>\n",
              "      <td>2</td>\n",
              "      <td>3</td>\n",
              "      <td>3</td>\n",
              "    </tr>\n",
              "    <tr>\n",
              "      <th>145826</th>\n",
              "      <td>3</td>\n",
              "      <td>4</td>\n",
              "      <td>4</td>\n",
              "      <td>5</td>\n",
              "      <td>2</td>\n",
              "      <td>4</td>\n",
              "      <td>4</td>\n",
              "      <td>3</td>\n",
              "      <td>3</td>\n",
              "      <td>4</td>\n",
              "      <td>4</td>\n",
              "      <td>4</td>\n",
              "      <td>2</td>\n",
              "      <td>4</td>\n",
              "      <td>4</td>\n",
              "      <td>4</td>\n",
              "      <td>4</td>\n",
              "      <td>3</td>\n",
              "      <td>3</td>\n",
              "      <td>3</td>\n",
              "      <td>3</td>\n",
              "      <td>4</td>\n",
              "      <td>5</td>\n",
              "      <td>4</td>\n",
              "      <td>5</td>\n",
              "      <td>4</td>\n",
              "      <td>4</td>\n",
              "      <td>5</td>\n",
              "      <td>3</td>\n",
              "      <td>4</td>\n",
              "      <td>5</td>\n",
              "      <td>4</td>\n",
              "      <td>1</td>\n",
              "      <td>1</td>\n",
              "      <td>3</td>\n",
              "      <td>3</td>\n",
              "      <td>3</td>\n",
              "      <td>1</td>\n",
              "      <td>1</td>\n",
              "      <td>3</td>\n",
              "      <td>1</td>\n",
              "      <td>2</td>\n",
              "      <td>4</td>\n",
              "      <td>1</td>\n",
              "      <td>5</td>\n",
              "      <td>4</td>\n",
              "      <td>1</td>\n",
              "      <td>1</td>\n",
              "    </tr>\n",
              "    <tr>\n",
              "      <th>145827</th>\n",
              "      <td>2</td>\n",
              "      <td>4</td>\n",
              "      <td>1</td>\n",
              "      <td>4</td>\n",
              "      <td>2</td>\n",
              "      <td>3</td>\n",
              "      <td>1</td>\n",
              "      <td>4</td>\n",
              "      <td>4</td>\n",
              "      <td>4</td>\n",
              "      <td>4</td>\n",
              "      <td>5</td>\n",
              "      <td>4</td>\n",
              "      <td>4</td>\n",
              "      <td>4</td>\n",
              "      <td>4</td>\n",
              "      <td>3</td>\n",
              "      <td>2</td>\n",
              "      <td>2</td>\n",
              "      <td>3</td>\n",
              "      <td>3</td>\n",
              "      <td>4</td>\n",
              "      <td>1</td>\n",
              "      <td>1</td>\n",
              "      <td>3</td>\n",
              "      <td>4</td>\n",
              "      <td>5</td>\n",
              "      <td>4</td>\n",
              "      <td>4</td>\n",
              "      <td>4</td>\n",
              "      <td>4</td>\n",
              "      <td>2</td>\n",
              "      <td>4</td>\n",
              "      <td>2</td>\n",
              "      <td>4</td>\n",
              "      <td>2</td>\n",
              "      <td>4</td>\n",
              "      <td>2</td>\n",
              "      <td>5</td>\n",
              "      <td>4</td>\n",
              "      <td>1</td>\n",
              "      <td>3</td>\n",
              "      <td>4</td>\n",
              "      <td>1</td>\n",
              "      <td>4</td>\n",
              "      <td>4</td>\n",
              "      <td>4</td>\n",
              "      <td>3</td>\n",
              "    </tr>\n",
              "  </tbody>\n",
              "</table>\n",
              "<p>145828 rows × 48 columns</p>\n",
              "</div>"
            ],
            "text/plain": [
              "        R1  R2  R3  R4  R5  R6  R7  R8  I1  ...  E8  C1  C2  C3  C4  C5  C6  C7  C8\n",
              "0        3   4   3   1   1   4   1   3   5  ...   3   1   3   1   1   1   3   1   1\n",
              "1        1   1   2   4   1   2   2   1   5  ...   3   1   1   2   1   1   2   1   1\n",
              "2        2   1   1   1   1   1   1   1   4  ...   3   1   3   2   2   1   2   4   1\n",
              "3        3   1   1   2   2   2   2   2   4  ...   3   3   2   3   3   2   2   2   2\n",
              "4        4   1   1   2   1   1   1   2   5  ...   2   4   2   2   4   5   5   2   2\n",
              "...     ..  ..  ..  ..  ..  ..  ..  ..  ..  ...  ..  ..  ..  ..  ..  ..  ..  ..  ..\n",
              "145823   2   1   1   1   1   1   1   2   2  ...   3   1   2   1   2   3   2   1   1\n",
              "145824   1   1   1   1   1   1   1   4   4  ...   1   2   2   1   2   1   4   3   1\n",
              "145825   1   1   1   1   1   1   1   1   1  ...   1   2   2   3   3   3   2   3   3\n",
              "145826   3   4   4   5   2   4   4   3   3  ...   3   1   2   4   1   5   4   1   1\n",
              "145827   2   4   1   4   2   3   1   4   4  ...   4   1   3   4   1   4   4   4   3\n",
              "\n",
              "[145828 rows x 48 columns]"
            ]
          },
          "metadata": {
            "tags": []
          },
          "execution_count": 4
        }
      ]
    },
    {
      "cell_type": "code",
      "metadata": {
        "id": "5z4rplQL_b-F"
      },
      "source": [
        "import numpy as np\n",
        "X = df"
      ],
      "execution_count": null,
      "outputs": []
    },
    {
      "cell_type": "code",
      "metadata": {
        "id": "JvS3NmTB_sQ8"
      },
      "source": [
        "X = X.fillna(2.5)"
      ],
      "execution_count": null,
      "outputs": []
    },
    {
      "cell_type": "code",
      "metadata": {
        "id": "FSPhSNw1_uHj"
      },
      "source": [
        "from sklearn.cluster import MiniBatchKMeans"
      ],
      "execution_count": null,
      "outputs": []
    },
    {
      "cell_type": "code",
      "metadata": {
        "id": "jR3qJjVZ_2IN"
      },
      "source": [
        "kmeans = MiniBatchKMeans(n_clusters=6, random_state=0, batch_size=50, max_iter=200)"
      ],
      "execution_count": null,
      "outputs": []
    },
    {
      "cell_type": "code",
      "metadata": {
        "id": "jRkJ7GmJ_-M2"
      },
      "source": [
        "label=kmeans.fit_predict(X)"
      ],
      "execution_count": null,
      "outputs": []
    },
    {
      "cell_type": "code",
      "metadata": {
        "id": "7dZ2oVdhAJtV"
      },
      "source": [
        "Realistic = kmeans.cluster_centers_[0]"
      ],
      "execution_count": null,
      "outputs": []
    },
    {
      "cell_type": "code",
      "metadata": {
        "colab": {
          "base_uri": "https://localhost:8080/"
        },
        "id": "NFzhCOr17bD3",
        "outputId": "85d517c7-a6e4-4471-9eb4-4f8e7df82345"
      },
      "source": [
        "Realistic"
      ],
      "execution_count": null,
      "outputs": [
        {
          "output_type": "execute_result",
          "data": {
            "text/plain": [
              "array([3.46368446, 2.9963925 , 2.64093314, 3.58754209, 2.75180375,\n",
              "       3.27392977, 3.14526215, 2.92881193, 3.67917268, 3.63155363,\n",
              "       3.56493506, 3.37758538, 3.41101491, 3.42255892, 3.3997114 ,\n",
              "       3.24001924, 2.0995671 , 2.28234728, 2.66305916, 2.41702742,\n",
              "       2.52693603, 3.0036075 , 2.83597884, 2.61760462, 3.08561809,\n",
              "       3.29413179, 2.74675325, 3.00841751, 2.93193843, 2.61976912,\n",
              "       2.76623377, 2.57936508, 2.31746032, 2.45983646, 3.004329  ,\n",
              "       2.11688312, 3.37469937, 2.57166907, 2.62049062, 2.81385281,\n",
              "       2.91798942, 3.26791727, 3.27873978, 3.04545455, 3.52934103,\n",
              "       3.54112554, 2.83261183, 3.1043771 ])"
            ]
          },
          "metadata": {
            "tags": []
          },
          "execution_count": 11
        }
      ]
    },
    {
      "cell_type": "code",
      "metadata": {
        "id": "xBbhoUHiAL2b"
      },
      "source": [
        "Artistic = kmeans.cluster_centers_[1]"
      ],
      "execution_count": null,
      "outputs": []
    },
    {
      "cell_type": "code",
      "metadata": {
        "id": "Pvx8jCYGAMu2"
      },
      "source": [
        "Investigative =kmeans.cluster_centers_[2]"
      ],
      "execution_count": null,
      "outputs": []
    },
    {
      "cell_type": "code",
      "metadata": {
        "id": "3iI6JhwuANJz"
      },
      "source": [
        "Social = kmeans.cluster_centers_[3]"
      ],
      "execution_count": null,
      "outputs": []
    },
    {
      "cell_type": "code",
      "metadata": {
        "id": "EPlnlG0rANxu"
      },
      "source": [
        "Enterprising =kmeans.cluster_centers_[4]"
      ],
      "execution_count": null,
      "outputs": []
    },
    {
      "cell_type": "code",
      "metadata": {
        "id": "nAwrYzo4CNNO"
      },
      "source": [
        "Conventional = kmeans.cluster_centers_[5]"
      ],
      "execution_count": null,
      "outputs": []
    },
    {
      "cell_type": "code",
      "metadata": {
        "colab": {
          "base_uri": "https://localhost:8080/"
        },
        "id": "aae6p2lLAbUF",
        "outputId": "29871817-5707-417e-db48-3c272114ac6b"
      },
      "source": [
        "Realistic"
      ],
      "execution_count": null,
      "outputs": [
        {
          "output_type": "execute_result",
          "data": {
            "text/plain": [
              "array([3.46368446, 2.9963925 , 2.64093314, 3.58754209, 2.75180375,\n",
              "       3.27392977, 3.14526215, 2.92881193, 3.67917268, 3.63155363,\n",
              "       3.56493506, 3.37758538, 3.41101491, 3.42255892, 3.3997114 ,\n",
              "       3.24001924, 2.0995671 , 2.28234728, 2.66305916, 2.41702742,\n",
              "       2.52693603, 3.0036075 , 2.83597884, 2.61760462, 3.08561809,\n",
              "       3.29413179, 2.74675325, 3.00841751, 2.93193843, 2.61976912,\n",
              "       2.76623377, 2.57936508, 2.31746032, 2.45983646, 3.004329  ,\n",
              "       2.11688312, 3.37469937, 2.57166907, 2.62049062, 2.81385281,\n",
              "       2.91798942, 3.26791727, 3.27873978, 3.04545455, 3.52934103,\n",
              "       3.54112554, 2.83261183, 3.1043771 ])"
            ]
          },
          "metadata": {
            "tags": []
          },
          "execution_count": 43
        }
      ]
    },
    {
      "cell_type": "code",
      "metadata": {
        "colab": {
          "base_uri": "https://localhost:8080/"
        },
        "id": "h1t4Rs-deQ0y",
        "outputId": "7d8c41a8-e5e3-4da4-eb92-8081a7a99242"
      },
      "source": [
        "Enterprising"
      ],
      "execution_count": null,
      "outputs": [
        {
          "output_type": "execute_result",
          "data": {
            "text/plain": [
              "array([1.7789916 , 1.45854342, 1.31680672, 1.64901961, 1.27647059,\n",
              "       1.42689076, 1.34705882, 1.36442577, 2.25854342, 2.03781513,\n",
              "       1.72969188, 1.67310924, 1.47282913, 1.60840336, 1.47058824,\n",
              "       1.41848739, 1.54733894, 1.75042017, 2.11148459, 2.03137255,\n",
              "       2.09859944, 2.14705882, 1.86722689, 1.73277311, 2.32857143,\n",
              "       2.48795518, 2.08039216, 1.91120448, 2.34733894, 1.84985994,\n",
              "       1.93277311, 1.69383754, 1.50252101, 1.62436975, 1.66918768,\n",
              "       1.56386555, 1.99495798, 1.67142857, 1.71960784, 1.47563025,\n",
              "       1.46526611, 1.53165266, 1.45994398, 1.48403361, 1.54509804,\n",
              "       1.63305322, 1.3070028 , 1.32464986])"
            ]
          },
          "metadata": {
            "tags": []
          },
          "execution_count": 53
        }
      ]
    },
    {
      "cell_type": "code",
      "metadata": {
        "colab": {
          "base_uri": "https://localhost:8080/"
        },
        "id": "y7sV5Z_SFlYN",
        "outputId": "a19e87a6-5d70-4148-d3e8-a96f27eb3df3"
      },
      "source": [
        "tR = 0\n",
        "tI = 0\n",
        "tA = 0\n",
        "tS = 0\n",
        "tE = 0\n",
        "tC = 0\n",
        "count = 0\n",
        "for x in Realistic:\n",
        "  if(count<=7):\n",
        "    tR=tR+x\n",
        "    count = count+1\n",
        "  elif(count<=15):\n",
        "    tI=tI+x\n",
        "    count = count+1\n",
        "  elif(count<=23):\n",
        "    tA=tA+x\n",
        "    count = count+1\n",
        "  elif(count<=31):\n",
        "    tS=tS+x\n",
        "    count = count+1\n",
        "  elif(count<=39):\n",
        "    tE=tE+x\n",
        "    count = count+1\n",
        "  elif(count<=47):\n",
        "    tC = tC+x\n",
        "    count = count+1\n",
        "  elif(count>47):\n",
        "    print('Done')\n",
        "    break \n",
        "\n",
        "print('Reaalistic : ',tR)\n",
        "print('Investigative :  ',tI)\n",
        "print('Artistic : ',tA)\n",
        "print('Social : ',tS)\n",
        "print('Enterprising : ',tE)\n",
        "print('Conventional : ',tC)\n",
        "\n"
      ],
      "execution_count": null,
      "outputs": [
        {
          "output_type": "stream",
          "text": [
            "Reaalistic :  24.78835978835979\n",
            "Investigative :   27.72655122655123\n",
            "Artistic :  20.44612794612794\n",
            "Social :  23.03222703222703\n",
            "Enterprising :  21.279220779220775\n",
            "Conventional :  25.517556517556518\n"
          ],
          "name": "stdout"
        }
      ]
    },
    {
      "cell_type": "code",
      "metadata": {
        "colab": {
          "base_uri": "https://localhost:8080/"
        },
        "id": "T0-ZTbQE-U54",
        "outputId": "2cebb553-0495-42f3-b10d-6d802282d64b"
      },
      "source": [
        "Artistic"
      ],
      "execution_count": null,
      "outputs": [
        {
          "output_type": "execute_result",
          "data": {
            "text/plain": [
              "array([3.31930247, 2.82160754, 2.31188615, 3.03788334, 2.40288635,\n",
              "       2.94487873, 2.82501503, 2.75786731, 3.92343155, 3.9378633 ,\n",
              "       3.77971537, 3.711365  , 3.487272  , 3.72760072, 3.40188415,\n",
              "       3.27781118, 3.36339948, 3.83223091, 3.88254159, 3.8424534 ,\n",
              "       3.8791341 , 4.09059932, 3.54760473, 3.884546  , 4.09120064,\n",
              "       4.21627581, 3.97975546, 3.95590299, 4.25255562, 4.04630186,\n",
              "       4.15253558, 3.8179996 , 3.04970936, 3.18801363, 3.76428142,\n",
              "       3.38725195, 3.87412307, 3.71737823, 3.28442574, 3.80096212,\n",
              "       3.06053317, 3.16376027, 3.23692123, 3.33293245, 3.19122069,\n",
              "       3.37903387, 3.01042293, 3.17278012])"
            ]
          },
          "metadata": {
            "tags": []
          },
          "execution_count": 63
        }
      ]
    },
    {
      "cell_type": "code",
      "metadata": {
        "colab": {
          "base_uri": "https://localhost:8080/"
        },
        "id": "p3HjrjxoPBA7",
        "outputId": "76607c48-7737-4c8e-b783-933f6c1ebda2"
      },
      "source": [
        "print(label)"
      ],
      "execution_count": null,
      "outputs": [
        {
          "output_type": "stream",
          "text": [
            "[5 3 2 ... 2 0 0]\n"
          ],
          "name": "stdout"
        }
      ]
    },
    {
      "cell_type": "code",
      "metadata": {
        "id": "dV76ofPr7ReC"
      },
      "source": [
        "import matplotlib.pyplot as plt"
      ],
      "execution_count": null,
      "outputs": []
    },
    {
      "cell_type": "code",
      "metadata": {
        "id": "fK8YOcYe8E9H"
      },
      "source": [
        "filtered_label0 = X[label == 0]"
      ],
      "execution_count": null,
      "outputs": []
    },
    {
      "cell_type": "code",
      "metadata": {
        "colab": {
          "base_uri": "https://localhost:8080/",
          "height": 388
        },
        "id": "up2GRm_r7dPP",
        "outputId": "e93aecfa-1a6d-406a-b9ba-faf1a8f265c5"
      },
      "source": [
        "plt.scatter(filtered_label0[:,0] , filtered_label0[:,1])"
      ],
      "execution_count": null,
      "outputs": [
        {
          "output_type": "error",
          "ename": "TypeError",
          "evalue": "ignored",
          "traceback": [
            "\u001b[0;31m---------------------------------------------------------------------------\u001b[0m",
            "\u001b[0;31mTypeError\u001b[0m                                 Traceback (most recent call last)",
            "\u001b[0;32m<ipython-input-26-a208c82cf721>\u001b[0m in \u001b[0;36m<module>\u001b[0;34m()\u001b[0m\n\u001b[0;32m----> 1\u001b[0;31m \u001b[0mplt\u001b[0m\u001b[0;34m.\u001b[0m\u001b[0mscatter\u001b[0m\u001b[0;34m(\u001b[0m\u001b[0mfiltered_label0\u001b[0m\u001b[0;34m[\u001b[0m\u001b[0;34m:\u001b[0m\u001b[0;34m,\u001b[0m\u001b[0;36m0\u001b[0m\u001b[0;34m]\u001b[0m \u001b[0;34m,\u001b[0m \u001b[0mfiltered_label0\u001b[0m\u001b[0;34m[\u001b[0m\u001b[0;34m:\u001b[0m\u001b[0;34m,\u001b[0m\u001b[0;36m1\u001b[0m\u001b[0;34m]\u001b[0m\u001b[0;34m)\u001b[0m\u001b[0;34m\u001b[0m\u001b[0;34m\u001b[0m\u001b[0m\n\u001b[0m",
            "\u001b[0;32m/usr/local/lib/python3.7/dist-packages/pandas/core/frame.py\u001b[0m in \u001b[0;36m__getitem__\u001b[0;34m(self, key)\u001b[0m\n\u001b[1;32m   2904\u001b[0m             \u001b[0;32mif\u001b[0m \u001b[0mself\u001b[0m\u001b[0;34m.\u001b[0m\u001b[0mcolumns\u001b[0m\u001b[0;34m.\u001b[0m\u001b[0mnlevels\u001b[0m \u001b[0;34m>\u001b[0m \u001b[0;36m1\u001b[0m\u001b[0;34m:\u001b[0m\u001b[0;34m\u001b[0m\u001b[0;34m\u001b[0m\u001b[0m\n\u001b[1;32m   2905\u001b[0m                 \u001b[0;32mreturn\u001b[0m \u001b[0mself\u001b[0m\u001b[0;34m.\u001b[0m\u001b[0m_getitem_multilevel\u001b[0m\u001b[0;34m(\u001b[0m\u001b[0mkey\u001b[0m\u001b[0;34m)\u001b[0m\u001b[0;34m\u001b[0m\u001b[0;34m\u001b[0m\u001b[0m\n\u001b[0;32m-> 2906\u001b[0;31m             \u001b[0mindexer\u001b[0m \u001b[0;34m=\u001b[0m \u001b[0mself\u001b[0m\u001b[0;34m.\u001b[0m\u001b[0mcolumns\u001b[0m\u001b[0;34m.\u001b[0m\u001b[0mget_loc\u001b[0m\u001b[0;34m(\u001b[0m\u001b[0mkey\u001b[0m\u001b[0;34m)\u001b[0m\u001b[0;34m\u001b[0m\u001b[0;34m\u001b[0m\u001b[0m\n\u001b[0m\u001b[1;32m   2907\u001b[0m             \u001b[0;32mif\u001b[0m \u001b[0mis_integer\u001b[0m\u001b[0;34m(\u001b[0m\u001b[0mindexer\u001b[0m\u001b[0;34m)\u001b[0m\u001b[0;34m:\u001b[0m\u001b[0;34m\u001b[0m\u001b[0;34m\u001b[0m\u001b[0m\n\u001b[1;32m   2908\u001b[0m                 \u001b[0mindexer\u001b[0m \u001b[0;34m=\u001b[0m \u001b[0;34m[\u001b[0m\u001b[0mindexer\u001b[0m\u001b[0;34m]\u001b[0m\u001b[0;34m\u001b[0m\u001b[0;34m\u001b[0m\u001b[0m\n",
            "\u001b[0;32m/usr/local/lib/python3.7/dist-packages/pandas/core/indexes/base.py\u001b[0m in \u001b[0;36mget_loc\u001b[0;34m(self, key, method, tolerance)\u001b[0m\n\u001b[1;32m   2896\u001b[0m             \u001b[0mcasted_key\u001b[0m \u001b[0;34m=\u001b[0m \u001b[0mself\u001b[0m\u001b[0;34m.\u001b[0m\u001b[0m_maybe_cast_indexer\u001b[0m\u001b[0;34m(\u001b[0m\u001b[0mkey\u001b[0m\u001b[0;34m)\u001b[0m\u001b[0;34m\u001b[0m\u001b[0;34m\u001b[0m\u001b[0m\n\u001b[1;32m   2897\u001b[0m             \u001b[0;32mtry\u001b[0m\u001b[0;34m:\u001b[0m\u001b[0;34m\u001b[0m\u001b[0;34m\u001b[0m\u001b[0m\n\u001b[0;32m-> 2898\u001b[0;31m                 \u001b[0;32mreturn\u001b[0m \u001b[0mself\u001b[0m\u001b[0;34m.\u001b[0m\u001b[0m_engine\u001b[0m\u001b[0;34m.\u001b[0m\u001b[0mget_loc\u001b[0m\u001b[0;34m(\u001b[0m\u001b[0mcasted_key\u001b[0m\u001b[0;34m)\u001b[0m\u001b[0;34m\u001b[0m\u001b[0;34m\u001b[0m\u001b[0m\n\u001b[0m\u001b[1;32m   2899\u001b[0m             \u001b[0;32mexcept\u001b[0m \u001b[0mKeyError\u001b[0m \u001b[0;32mas\u001b[0m \u001b[0merr\u001b[0m\u001b[0;34m:\u001b[0m\u001b[0;34m\u001b[0m\u001b[0;34m\u001b[0m\u001b[0m\n\u001b[1;32m   2900\u001b[0m                 \u001b[0;32mraise\u001b[0m \u001b[0mKeyError\u001b[0m\u001b[0;34m(\u001b[0m\u001b[0mkey\u001b[0m\u001b[0;34m)\u001b[0m \u001b[0;32mfrom\u001b[0m \u001b[0merr\u001b[0m\u001b[0;34m\u001b[0m\u001b[0;34m\u001b[0m\u001b[0m\n",
            "\u001b[0;32mpandas/_libs/index.pyx\u001b[0m in \u001b[0;36mpandas._libs.index.IndexEngine.get_loc\u001b[0;34m()\u001b[0m\n",
            "\u001b[0;32mpandas/_libs/index.pyx\u001b[0m in \u001b[0;36mpandas._libs.index.IndexEngine.get_loc\u001b[0;34m()\u001b[0m\n",
            "\u001b[0;31mTypeError\u001b[0m: '(slice(None, None, None), 0)' is an invalid key"
          ]
        }
      ]
    },
    {
      "cell_type": "code",
      "metadata": {
        "id": "8eJP7QMUAj7j"
      },
      "source": [
        "all_types = {'Realistic':Realistic, 'Artistic': Artistic, 'Investigative' :Investigative, 'Social':Social, 'Enterprising':Enterprising   , 'Conventional':Conventional}\n",
        "\n",
        "all_types_scores ={}\n",
        "\n",
        "for name, personality_type in all_types.items():\n",
        "    personality_trait = {}\n",
        "\n",
        "    personality_trait['Realistic'] =  personality_type[0] + personality_type[1] +personality_type[2] + personality_type[3] + personality_type[4] + personality_type[5] + personality_type[6] + personality_type[7] \n",
        "    personality_trait['Investigative'] =  personality_type[8] + personality_type[9] + personality_type[10] + personality_type[11] + personality_type[12] + personality_type[13] + personality_type[14] + personality_type[15]\n",
        "    personality_trait['Artistic'] =  personality_type[16] + personality_type[17] + personality_type[18] + personality_type[19] + personality_type[20] + personality_type[21] + personality_type[22] + personality_type[23] \n",
        "    personality_trait['Social'] = personality_type[24] + personality_type[25] + personality_type[26] + personality_type[27] + personality_type[28] + personality_type[29] + personality_type[30] + personality_type[31] \n",
        "    personality_trait['Enterprising'] =  personality_type[32] + personality_type[33] + personality_type[34] + personality_type[35] + personality_type[36] + personality_type[37] + personality_type[38] + personality_type[39]\n",
        "    personality_trait['Conventional'] =  personality_type[40] + personality_type[41] + personality_type[42] + personality_type[43] + personality_type[44] + personality_type[45] + personality_type[46] + personality_type[47] \n",
        "    \n",
        "    all_types_scores[name] = personality_trait"
      ],
      "execution_count": null,
      "outputs": []
    },
    {
      "cell_type": "code",
      "metadata": {
        "colab": {
          "base_uri": "https://localhost:8080/"
        },
        "id": "syGIZIZoApzs",
        "outputId": "486bd5fc-86d3-4749-ad44-5c3de87b941d"
      },
      "source": [
        "all_types_scores"
      ],
      "execution_count": null,
      "outputs": [
        {
          "output_type": "execute_result",
          "data": {
            "text/plain": [
              "{'Artistic': {'Artistic': 30.322509520946088,\n",
              "  'Conventional': 25.5476047304069,\n",
              "  'Enterprising': 28.066145520144314,\n",
              "  'Investigative': 29.246943275205453,\n",
              "  'Realistic': 22.421326919222288,\n",
              "  'Social': 32.5125275606334},\n",
              " 'Conventional': {'Artistic': 29.437327443401436,\n",
              "  'Conventional': 14.241993373826617,\n",
              "  'Enterprising': 18.971424627277745,\n",
              "  'Investigative': 26.49599668691331,\n",
              "  'Realistic': 14.063224737713972,\n",
              "  'Social': 27.871755935946993},\n",
              " 'Enterprising': {'Artistic': 15.286274509803924,\n",
              "  'Conventional': 11.750700280112046,\n",
              "  'Enterprising': 13.22156862745098,\n",
              "  'Investigative': 13.669467787114847,\n",
              "  'Realistic': 11.618207282913165,\n",
              "  'Social': 16.63193277310924},\n",
              " 'Investigative': {'Artistic': 18.821300778783414,\n",
              "  'Conventional': 23.633761313407703,\n",
              "  'Enterprising': 24.33003578194064,\n",
              "  'Investigative': 16.25005262050095,\n",
              "  'Realistic': 14.68448747632077,\n",
              "  'Social': 26.56788044622185},\n",
              " 'Realistic': {'Artistic': 20.44612794612794,\n",
              "  'Conventional': 25.517556517556518,\n",
              "  'Enterprising': 21.279220779220775,\n",
              "  'Investigative': 27.72655122655123,\n",
              "  'Realistic': 24.78835978835979,\n",
              "  'Social': 23.03222703222703},\n",
              " 'Social': {'Artistic': 15.486190724335593,\n",
              "  'Conventional': 14.12610734757686,\n",
              "  'Enterprising': 14.650859822824389,\n",
              "  'Investigative': 27.531266284523184,\n",
              "  'Realistic': 12.023449713392395,\n",
              "  'Social': 25.77227722772277}}"
            ]
          },
          "metadata": {
            "tags": []
          },
          "execution_count": 55
        }
      ]
    },
    {
      "cell_type": "code",
      "metadata": {
        "id": "llPNQfduAxQP"
      },
      "source": [
        "all_realistic = []\n",
        "all_artistic =[]\n",
        "all_investigative =[]\n",
        "all_social =[]\n",
        "all_enterprising =[]\n",
        "all_conventional =[]\n",
        "\n",
        "for personality_type, personality_trait in all_types_scores.items():\n",
        "    all_realistic.append(personality_trait['Realistic'])\n",
        "    all_artistic.append(personality_trait['Artistic'])\n",
        "    all_investigative.append(personality_trait['Investigative'])\n",
        "    all_social.append(personality_trait['Social'])\n",
        "    all_enterprising.append(personality_trait['Enterprising'])\n",
        "    all_conventional.append(personality_trait['Conventional'])\n",
        "    "
      ],
      "execution_count": null,
      "outputs": []
    },
    {
      "cell_type": "code",
      "metadata": {
        "id": "ltlI396DA2Q6"
      },
      "source": [
        "all_realistic_normalized = (all_realistic-min(all_realistic))/(max(all_realistic)-min(all_realistic))\n",
        "all_artistic_normalized = (all_artistic-min(all_artistic))/(max(all_artistic)-min(all_artistic))\n",
        "all_investigative_normalized = (all_investigative-min(all_investigative))/(max(all_investigative)-min(all_investigative))\n",
        "all_social_normalized = (all_social-min(all_social))/(max(all_social)-min(all_social))\n",
        "all_enterprising_normalized = (all_enterprising-min(all_enterprising))/(max(all_enterprising)-min(all_enterprising))\n",
        "all_conventional_normalized = (all_conventional-min(all_conventional))/(max(all_conventional)-min(all_conventional))"
      ],
      "execution_count": null,
      "outputs": []
    },
    {
      "cell_type": "code",
      "metadata": {
        "colab": {
          "base_uri": "https://localhost:8080/"
        },
        "id": "e_OcI-SkA4Zb",
        "outputId": "6cdfb015-43c2-4172-dd1d-3887443087ba"
      },
      "source": [
        "all_realistic_normalized"
      ],
      "execution_count": null,
      "outputs": [
        {
          "output_type": "execute_result",
          "data": {
            "text/plain": [
              "array([1.        , 0.82027293, 0.2328204 , 0.03076976, 0.        ,\n",
              "       0.18564838])"
            ]
          },
          "metadata": {
            "tags": []
          },
          "execution_count": 58
        }
      ]
    },
    {
      "cell_type": "code",
      "metadata": {
        "id": "bYnGG-yyA8di"
      },
      "source": [
        "counter = 0\n",
        "\n",
        "normalized_all_types_scores ={}\n",
        "\n",
        "for personality_type, personality_trait in all_types_scores.items():\n",
        "    normalized_personality_trait ={}\n",
        "    normalized_personality_trait['realistic_score'] = all_realistic_normalized[counter]\n",
        "    normalized_personality_trait['artistic_score'] = all_artistic_normalized[counter]\n",
        "    normalized_personality_trait['investigative_score'] = all_investigative_normalized[counter]\n",
        "    normalized_personality_trait['social_score'] = all_social_normalized[counter]\n",
        "    normalized_personality_trait['enterprising_score'] = all_enterprising_normalized[counter]\n",
        "    normalized_personality_trait['conventional_score'] = all_conventional_normalized[counter]\n",
        "    \n",
        "    normalized_all_types_scores[personality_type] = normalized_personality_trait\n",
        "    \n",
        "    counter+=1"
      ],
      "execution_count": null,
      "outputs": []
    },
    {
      "cell_type": "code",
      "metadata": {
        "colab": {
          "base_uri": "https://localhost:8080/"
        },
        "id": "f37kHV3BBDXU",
        "outputId": "6a28a0bf-fc50-41b9-eb92-b610e8ab50de"
      },
      "source": [
        "normalized_all_types_scores"
      ],
      "execution_count": null,
      "outputs": [
        {
          "output_type": "execute_result",
          "data": {
            "text/plain": [
              "{'Artistic': {'artistic_score': 1.0,\n",
              "  'conventional_score': 1.0,\n",
              "  'enterprising_score': 1.0,\n",
              "  'investigative_score': 1.0,\n",
              "  'realistic_score': 0.8202729339574012,\n",
              "  'social_score': 1.0},\n",
              " 'Conventional': {'artistic_score': 0.9411300716643021,\n",
              "  'conventional_score': 0.18056898942003832,\n",
              "  'enterprising_score': 0.3873371428091634,\n",
              "  'investigative_score': 0.8234022842536124,\n",
              "  'realistic_score': 0.18564837831525866,\n",
              "  'social_score': 0.7077709187358516},\n",
              " 'Enterprising': {'artistic_score': 0.0,\n",
              "  'conventional_score': 0.0,\n",
              "  'enterprising_score': 0.0,\n",
              "  'investigative_score': 0.0,\n",
              "  'realistic_score': 0.0,\n",
              "  'social_score': 0.0},\n",
              " 'Investigative': {'artistic_score': 0.2351004933322711,\n",
              "  'conventional_score': 0.8612845784433699,\n",
              "  'enterprising_score': 0.7483182063584023,\n",
              "  'investigative_score': 0.16566129957059006,\n",
              "  'realistic_score': 0.2328204014448215,\n",
              "  'social_score': 0.6256659656676283},\n",
              " 'Realistic': {'artistic_score': 0.3431612656027561,\n",
              "  'conventional_score': 0.9978221047367085,\n",
              "  'enterprising_score': 0.5428010653328801,\n",
              "  'investigative_score': 0.9023980458312001,\n",
              "  'realistic_score': 1.0,\n",
              "  'social_score': 0.403026104799669},\n",
              " 'Social': {'artistic_score': 0.01329562981581006,\n",
              "  'conventional_score': 0.17216956716794907,\n",
              "  'enterprising_score': 0.09628372743159302,\n",
              "  'investigative_score': 0.8898616793206351,\n",
              "  'realistic_score': 0.030769759903056474,\n",
              "  'social_score': 0.5755668837916708}}"
            ]
          },
          "metadata": {
            "tags": []
          },
          "execution_count": 60
        }
      ]
    },
    {
      "cell_type": "code",
      "metadata": {
        "colab": {
          "base_uri": "https://localhost:8080/",
          "height": 325
        },
        "id": "iUHiy0-wBHjK",
        "outputId": "9d013dcc-f75e-4803-891a-6a33a28ffe69"
      },
      "source": [
        "import numpy as np\n",
        "import matplotlib.pyplot as plt\n",
        "\n",
        "plt.figure(figsize=(15,5))\n",
        "plt.ylim(0, 1)\n",
        "plt.bar(list(normalized_all_types_scores['Realistic'].keys()), normalized_all_types_scores['Realistic'].values(), color='g')\n",
        "plt.show()"
      ],
      "execution_count": null,
      "outputs": [
        {
          "output_type": "display_data",
          "data": {
            "image/png": "[encoded data removed]",
            "text/plain": [
              "<Figure size 1080x360 with 1 Axes>"
            ]
          },
          "metadata": {
            "tags": [],
            "needs_background": "light"
          }
        }
      ]
    },
    {
      "cell_type": "code",
      "metadata": {
        "colab": {
          "base_uri": "https://localhost:8080/"
        },
        "id": "Uw6pXnExM_NS",
        "outputId": "837849b0-17fb-47a8-9e3f-e2362bc09d3a"
      },
      "source": [
        "Artistic"
      ],
      "execution_count": null,
      "outputs": [
        {
          "output_type": "execute_result",
          "data": {
            "text/plain": [
              "array([3.31930247, 2.82160754, 2.31188615, 3.03788334, 2.40288635,\n",
              "       2.94487873, 2.82501503, 2.75786731, 3.92343155, 3.9378633 ,\n",
              "       3.77971537, 3.711365  , 3.487272  , 3.72760072, 3.40188415,\n",
              "       3.27781118, 3.36339948, 3.83223091, 3.88254159, 3.8424534 ,\n",
              "       3.8791341 , 4.09059932, 3.54760473, 3.884546  , 4.09120064,\n",
              "       4.21627581, 3.97975546, 3.95590299, 4.25255562, 4.04630186,\n",
              "       4.15253558, 3.8179996 , 3.04970936, 3.18801363, 3.76428142,\n",
              "       3.38725195, 3.87412307, 3.71737823, 3.28442574, 3.80096212,\n",
              "       3.06053317, 3.16376027, 3.23692123, 3.33293245, 3.19122069,\n",
              "       3.37903387, 3.01042293, 3.17278012])"
            ]
          },
          "metadata": {
            "tags": []
          },
          "execution_count": 78
        }
      ]
    },
    {
      "cell_type": "code",
      "metadata": {
        "colab": {
          "base_uri": "https://localhost:8080/",
          "height": 325
        },
        "id": "QLqrBl9GBVW6",
        "outputId": "4a1eb080-289f-4feb-f192-f029f563c6db"
      },
      "source": [
        "plt.figure(figsize=(15,5))\n",
        "plt.ylim(0, 1)\n",
        "plt.bar(list(normalized_all_types_scores['Artistic'].keys()), normalized_all_types_scores['Artistic'].values(), color='b')\n",
        "plt.show()"
      ],
      "execution_count": null,
      "outputs": [
        {
          "output_type": "display_data",
          "data": {
            "image/png": "[encoded data removed]",
            "text/plain": [
              "<Figure size 1080x360 with 1 Axes>"
            ]
          },
          "metadata": {
            "tags": [],
            "needs_background": "light"
          }
        }
      ]
    },
    {
      "cell_type": "code",
      "metadata": {
        "colab": {
          "base_uri": "https://localhost:8080/",
          "height": 325
        },
        "id": "dKEYSTpnBZE4",
        "outputId": "b3efa07f-a8f5-498f-e1ed-30cceba0158a"
      },
      "source": [
        "plt.figure(figsize=(15,5))\n",
        "plt.ylim(0, 1)\n",
        "plt.bar(list(normalized_all_types_scores['Investigative'].keys()), normalized_all_types_scores['Investigative'].values(), color='r')\n",
        "plt.show()"
      ],
      "execution_count": null,
      "outputs": [
        {
          "output_type": "display_data",
          "data": {
            "image/png": "[encoded data removed]",
            "text/plain": [
              "<Figure size 1080x360 with 1 Axes>"
            ]
          },
          "metadata": {
            "tags": [],
            "needs_background": "light"
          }
        }
      ]
    },
    {
      "cell_type": "code",
      "metadata": {
        "colab": {
          "base_uri": "https://localhost:8080/",
          "height": 325
        },
        "id": "s_q2YQAMBjvu",
        "outputId": "77d6a5ce-eee6-4701-9b1e-cbe439fee97f"
      },
      "source": [
        "plt.figure(figsize=(15,5))\n",
        "plt.ylim(0, 1)\n",
        "plt.bar(list(normalized_all_types_scores['Social'].keys()), normalized_all_types_scores['Social'].values(), color='y')\n",
        "plt.show()"
      ],
      "execution_count": null,
      "outputs": [
        {
          "output_type": "display_data",
          "data": {
            "image/png": "[encoded data removed]",
            "text/plain": [
              "<Figure size 1080x360 with 1 Axes>"
            ]
          },
          "metadata": {
            "tags": [],
            "needs_background": "light"
          }
        }
      ]
    },
    {
      "cell_type": "code",
      "metadata": {
        "colab": {
          "base_uri": "https://localhost:8080/",
          "height": 325
        },
        "id": "C1CoWfLZB3Vs",
        "outputId": "c8c25505-fac3-4378-9717-09d49736277b"
      },
      "source": [
        "plt.figure(figsize=(15,5))\n",
        "plt.ylim(0, 1)\n",
        "plt.bar(list(normalized_all_types_scores['Enterprising'].keys()), normalized_all_types_scores['Enterprising'].values(), color='k')\n",
        "plt.show()"
      ],
      "execution_count": null,
      "outputs": [
        {
          "output_type": "display_data",
          "data": {
            "image/png": "[encoded data removed]",
            "text/plain": [
              "<Figure size 1080x360 with 1 Axes>"
            ]
          },
          "metadata": {
            "tags": [],
            "needs_background": "light"
          }
        }
      ]
    },
    {
      "cell_type": "code",
      "metadata": {
        "colab": {
          "base_uri": "https://localhost:8080/",
          "height": 325
        },
        "id": "dCmaaB2QdQdG",
        "outputId": "bfdf7432-7c41-43e0-e375-4746169643b7"
      },
      "source": [
        "plt.figure(figsize=(15,5))\n",
        "plt.ylim(0, 1)\n",
        "plt.bar(list(normalized_all_types_scores['Conventional'].keys()), normalized_all_types_scores['Conventional'].values(), color='m')\n",
        "plt.show()"
      ],
      "execution_count": null,
      "outputs": [
        {
          "output_type": "display_data",
          "data": {
            "image/png": "[encoded data removed]",
            "text/plain": [
              "<Figure size 1080x360 with 1 Axes>"
            ]
          },
          "metadata": {
            "tags": [],
            "needs_background": "light"
          }
        }
      ]
    }
  ]
}